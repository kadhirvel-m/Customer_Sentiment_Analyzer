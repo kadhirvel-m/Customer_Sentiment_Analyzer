{
 "cells": [
  {
   "cell_type": "code",
   "execution_count": 35,
   "metadata": {},
   "outputs": [],
   "source": [
    "import pandas as pd\n",
    "import numpy as np\n",
    "import matplotlib.pyplot as plt\n",
    "import seaborn as sns\n",
    "\n",
    "plt.style.use('ggplot')\n",
    "\n",
    "import nltk"
   ]
  },
  {
   "cell_type": "code",
   "execution_count": 36,
   "metadata": {},
   "outputs": [
    {
     "name": "stdout",
     "output_type": "stream",
     "text": [
      "(361, 6)\n"
     ]
    }
   ],
   "source": [
    "df = pd.read_csv('feedbacks.csv')\n",
    "print(df.shape)"
   ]
  },
  {
   "cell_type": "code",
   "execution_count": 37,
   "metadata": {},
   "outputs": [
    {
     "data": {
      "image/png": "[encoded data removed]",
      "text/plain": [
       "<Figure size 1000x500 with 1 Axes>"
      ]
     },
     "metadata": {},
     "output_type": "display_data"
    }
   ],
   "source": [
    "ax = df['REVIEW'].value_counts().sort_index() \\\n",
    "    .plot(kind='bar',\n",
    "          title='Count of Reviews by Stars',\n",
    "          figsize=(10, 5))\n",
    "ax.set_xlabel('Review Stars')\n",
    "plt.show()"
   ]
  },
  {
   "cell_type": "code",
   "execution_count": 38,
   "metadata": {},
   "outputs": [
    {
     "name": "stdout",
     "output_type": "stream",
     "text": [
      "The session was too long and felt overwhelming. Breaking it into smaller, more digestible modules would help maintain focus. By the end, attention levels dropped. More concise sessions with short breaks would be beneficial.\n"
     ]
    }
   ],
   "source": [
    "example = df['FEEDBACK'][10]\n",
    "print(example)"
   ]
  },
  {
   "cell_type": "code",
   "execution_count": 39,
   "metadata": {},
   "outputs": [
    {
     "name": "stderr",
     "output_type": "stream",
     "text": [
      "[nltk_data] Downloading package punkt to C:\\Users\\dhanu/nltk_data...\n",
      "[nltk_data]   Unzipping tokenizers\\punkt.zip.\n"
     ]
    },
    {
     "data": {
      "text/plain": [
       "True"
      ]
     },
     "execution_count": 39,
     "metadata": {},
     "output_type": "execute_result"
    }
   ],
   "source": [
    "import nltk\n",
    "nltk.download('punkt')"
   ]
  },
  {
   "cell_type": "code",
   "execution_count": 40,
   "metadata": {},
   "outputs": [
    {
     "name": "stderr",
     "output_type": "stream",
     "text": [
      "[nltk_data] Downloading package punkt to C:\\Users\\dhanu/nltk_data...\n",
      "[nltk_data]   Unzipping tokenizers\\punkt.zip.\n"
     ]
    },
    {
     "data": {
      "text/plain": [
       "['The',\n",
       " 'session',\n",
       " 'was',\n",
       " 'too',\n",
       " 'long',\n",
       " 'and',\n",
       " 'felt',\n",
       " 'overwhelming',\n",
       " '.',\n",
       " 'Breaking']"
      ]
     },
     "execution_count": 40,
     "metadata": {},
     "output_type": "execute_result"
    }
   ],
   "source": [
    "import nltk\n",
    "nltk.download('punkt')\n",
    "tokens = nltk.word_tokenize(example)\n",
    "tokens[:10]"
   ]
  },
  {
   "cell_type": "code",
   "execution_count": 41,
   "metadata": {},
   "outputs": [
    {
     "data": {
      "text/plain": [
       "[('The', 'DT'),\n",
       " ('session', 'NN'),\n",
       " ('was', 'VBD'),\n",
       " ('too', 'RB'),\n",
       " ('long', 'JJ'),\n",
       " ('and', 'CC'),\n",
       " ('felt', 'VBD'),\n",
       " ('overwhelming', 'VBG'),\n",
       " ('.', '.'),\n",
       " ('Breaking', 'VBG')]"
      ]
     },
     "execution_count": 41,
     "metadata": {},
     "output_type": "execute_result"
    }
   ],
   "source": [
    "tagged = nltk.pos_tag(tokens)\n",
    "tagged[:10]"
   ]
  },
  {
   "cell_type": "code",
   "execution_count": 42,
   "metadata": {},
   "outputs": [
    {
     "name": "stdout",
     "output_type": "stream",
     "text": [
      "(S\n",
      "  The/DT\n",
      "  session/NN\n",
      "  was/VBD\n",
      "  too/RB\n",
      "  long/JJ\n",
      "  and/CC\n",
      "  felt/VBD\n",
      "  overwhelming/VBG\n",
      "  ./.\n",
      "  Breaking/VBG\n",
      "  it/PRP\n",
      "  into/IN\n",
      "  smaller/JJR\n",
      "  ,/,\n",
      "  more/RBR\n",
      "  digestible/JJ\n",
      "  modules/NNS\n",
      "  would/MD\n",
      "  help/VB\n",
      "  maintain/VB\n",
      "  focus/NN\n",
      "  ./.\n",
      "  By/IN\n",
      "  the/DT\n",
      "  end/NN\n",
      "  ,/,\n",
      "  attention/NN\n",
      "  levels/NNS\n",
      "  dropped/VBD\n",
      "  ./.\n",
      "  More/RBR\n",
      "  concise/JJ\n",
      "  sessions/NNS\n",
      "  with/IN\n",
      "  short/JJ\n",
      "  breaks/NNS\n",
      "  would/MD\n",
      "  be/VB\n",
      "  beneficial/JJ\n",
      "  ./.)\n"
     ]
    }
   ],
   "source": [
    "entities = nltk.chunk.ne_chunk(tagged)\n",
    "entities.pprint()"
   ]
  },
  {
   "cell_type": "code",
   "execution_count": null,
   "metadata": {},
   "outputs": [],
   "source": [
    "from nltk.sentiment import SentimentIntensityAnalyzer \n",
    "from tqdm.notebook import tqdm\n",
    "\n",
    "sia = SentimentIntensityAnalyzer()"
   ]
  },
  {
   "cell_type": "code",
   "execution_count": 44,
   "metadata": {},
   "outputs": [
    {
     "data": {
      "text/plain": [
       "{'neg': 0.451, 'neu': 0.549, 'pos': 0.0, 'compound': -0.6249}"
      ]
     },
     "execution_count": 44,
     "metadata": {},
     "output_type": "execute_result"
    }
   ],
   "source": [
    "sia.polarity_scores('This is the worst thing ever.')    "
   ]
  },
  {
   "cell_type": "code",
   "execution_count": 45,
   "metadata": {},
   "outputs": [
    {
     "data": {
      "application/vnd.jupyter.widget-view+json": {
       "model_id": "34458b24501b4b5e845c4236da3dc1c6",
       "version_major": 2,
       "version_minor": 0
      },
      "text/plain": [
       "  0%|          | 0/361 [00:00<?, ?it/s]"
      ]
     },
     "metadata": {},
     "output_type": "display_data"
    }
   ],
   "source": [
    "res = {}\n",
    "for i, row in tqdm(df.iterrows(), total=len(df)):\n",
    "    text = row['FEEDBACK']\n",
    "    myid = row['NAME']\n",
    "    res[myid] = sia.polarity_scores(text)"
   ]
  },
  {
   "cell_type": "code",
   "execution_count": 46,
   "metadata": {},
   "outputs": [],
   "source": [
    "vaders = pd.DataFrame(res).T\n",
    "vaders = vaders.reset_index().rename(columns={'index': 'NAME'})\n",
    "vaders = vaders.merge(df, how='left')"
   ]
  },
  {
   "cell_type": "code",
   "execution_count": 47,
   "metadata": {},
   "outputs": [
    {
     "data": {
      "text/html": [
       "<div>\n",
       "<style scoped>\n",
       "    .dataframe tbody tr th:only-of-type {\n",
       "        vertical-align: middle;\n",
       "    }\n",
       "\n",
       "    .dataframe tbody tr th {\n",
       "        vertical-align: top;\n",
       "    }\n",
       "\n",
       "    .dataframe thead th {\n",
       "        text-align: right;\n",
       "    }\n",
       "</style>\n",
       "<table border=\"1\" class=\"dataframe\">\n",
       "  <thead>\n",
       "    <tr style=\"text-align: right;\">\n",
       "      <th></th>\n",
       "      <th>NAME</th>\n",
       "      <th>neg</th>\n",
       "      <th>neu</th>\n",
       "      <th>pos</th>\n",
       "      <th>compound</th>\n",
       "      <th>Timestamp</th>\n",
       "      <th>DEPARTMENT</th>\n",
       "      <th>FEEDBACK</th>\n",
       "      <th>SUMMARY</th>\n",
       "      <th>REVIEW</th>\n",
       "    </tr>\n",
       "  </thead>\n",
       "  <tbody>\n",
       "    <tr>\n",
       "      <th>0</th>\n",
       "      <td>Swati Sharma</td>\n",
       "      <td>0.000</td>\n",
       "      <td>0.830</td>\n",
       "      <td>0.170</td>\n",
       "      <td>0.6956</td>\n",
       "      <td>19/02/2025 21:02:18</td>\n",
       "      <td>IT</td>\n",
       "      <td>The examples provided were helpful but too few...</td>\n",
       "      <td>Useful examples, but needs more</td>\n",
       "      <td>1</td>\n",
       "    </tr>\n",
       "    <tr>\n",
       "      <th>1</th>\n",
       "      <td>\\tManish Reddy</td>\n",
       "      <td>0.060</td>\n",
       "      <td>0.671</td>\n",
       "      <td>0.269</td>\n",
       "      <td>0.8271</td>\n",
       "      <td>19/02/2025 21:02:47</td>\n",
       "      <td>CSE</td>\n",
       "      <td>The session was too long, making it difficult ...</td>\n",
       "      <td>Session too long, needs better pacing.</td>\n",
       "      <td>1</td>\n",
       "    </tr>\n",
       "    <tr>\n",
       "      <th>2</th>\n",
       "      <td>Harish Kumar</td>\n",
       "      <td>0.050</td>\n",
       "      <td>0.702</td>\n",
       "      <td>0.248</td>\n",
       "      <td>0.8300</td>\n",
       "      <td>19/02/2025 21:06:38</td>\n",
       "      <td>CSE</td>\n",
       "      <td>The Q&amp;A session was too short, leaving many do...</td>\n",
       "      <td>Q&amp;A too short, needs more time.</td>\n",
       "      <td>1</td>\n",
       "    </tr>\n",
       "    <tr>\n",
       "      <th>3</th>\n",
       "      <td>Meenal Saxena</td>\n",
       "      <td>0.000</td>\n",
       "      <td>0.803</td>\n",
       "      <td>0.197</td>\n",
       "      <td>0.7650</td>\n",
       "      <td>19/02/2025 21:07:23</td>\n",
       "      <td>AIML</td>\n",
       "      <td>The practical examples were too simple and did...</td>\n",
       "      <td>Simple examples, needs complexity.</td>\n",
       "      <td>1</td>\n",
       "    </tr>\n",
       "    <tr>\n",
       "      <th>4</th>\n",
       "      <td>Vikas Malhotra</td>\n",
       "      <td>0.187</td>\n",
       "      <td>0.734</td>\n",
       "      <td>0.079</td>\n",
       "      <td>-0.5927</td>\n",
       "      <td>19/02/2025 21:07:47</td>\n",
       "      <td>IOT</td>\n",
       "      <td>The session was informative but felt repetitiv...</td>\n",
       "      <td>Repetitive, needs conciseness.</td>\n",
       "      <td>1</td>\n",
       "    </tr>\n",
       "  </tbody>\n",
       "</table>\n",
       "</div>"
      ],
      "text/plain": [
       "             NAME    neg    neu    pos  compound            Timestamp  \\\n",
       "0    Swati Sharma  0.000  0.830  0.170    0.6956  19/02/2025 21:02:18   \n",
       "1  \\tManish Reddy  0.060  0.671  0.269    0.8271  19/02/2025 21:02:47   \n",
       "2    Harish Kumar  0.050  0.702  0.248    0.8300  19/02/2025 21:06:38   \n",
       "3   Meenal Saxena  0.000  0.803  0.197    0.7650  19/02/2025 21:07:23   \n",
       "4  Vikas Malhotra  0.187  0.734  0.079   -0.5927  19/02/2025 21:07:47   \n",
       "\n",
       "  DEPARTMENT                                           FEEDBACK  \\\n",
       "0         IT  The examples provided were helpful but too few...   \n",
       "1        CSE  The session was too long, making it difficult ...   \n",
       "2        CSE  The Q&A session was too short, leaving many do...   \n",
       "3       AIML  The practical examples were too simple and did...   \n",
       "4        IOT  The session was informative but felt repetitiv...   \n",
       "\n",
       "                                  SUMMARY  REVIEW  \n",
       "0         Useful examples, but needs more       1  \n",
       "1  Session too long, needs better pacing.       1  \n",
       "2         Q&A too short, needs more time.       1  \n",
       "3      Simple examples, needs complexity.       1  \n",
       "4          Repetitive, needs conciseness.       1  "
      ]
     },
     "execution_count": 47,
     "metadata": {},
     "output_type": "execute_result"
    }
   ],
   "source": [
    "vaders.head()"
   ]
  },
  {
   "cell_type": "code",
   "execution_count": 48,
   "metadata": {},
   "outputs": [
    {
     "data": {
      "image/png": "[encoded data removed]",
      "text/plain": [
       "<Figure size 640x480 with 1 Axes>"
      ]
     },
     "metadata": {},
     "output_type": "display_data"
    }
   ],
   "source": [
    "ax = sns.barplot(data=vaders, x='REVIEW', y='compound')\n",
    "ax.set_title('Compund Score by Amazon Star Review')\n",
    "plt.show()"
   ]
  },
  {
   "cell_type": "code",
   "execution_count": 49,
   "metadata": {},
   "outputs": [
    {
     "data": {
      "image/png": "[encoded data removed]",
      "text/plain": [
       "<Figure size 1200x300 with 3 Axes>"
      ]
     },
     "metadata": {},
     "output_type": "display_data"
    }
   ],
   "source": [
    "fig, axs = plt.subplots(1, 3, figsize=(12, 3))\n",
    "sns.barplot(data=vaders, x='REVIEW', y='pos', ax=axs[0])\n",
    "sns.barplot(data=vaders, x='REVIEW', y='neu', ax=axs[1])\n",
    "sns.barplot(data=vaders, x='REVIEW', y='neg', ax=axs[2])\n",
    "axs[0].set_title('Positive')\n",
    "axs[1].set_title('Neutral')\n",
    "axs[2].set_title('Negative')\n",
    "plt.tight_layout()\n",
    "plt.show()"
   ]
  },
  {
   "cell_type": "code",
   "execution_count": null,
   "metadata": {},
   "outputs": [],
   "source": [
    "from transformers import AutoTokenizer\n",
    "from transformers import AutoModelForSequenceClassification\n",
    "from scipy.special import softmax"
   ]
  },
  {
   "cell_type": "code",
   "execution_count": 60,
   "metadata": {},
   "outputs": [],
   "source": [
    "MODEL = f\"cardiffnlp/twitter-roberta-base-sentiment\"\n",
    "tokenizer = AutoTokenizer.from_pretrained(MODEL)\n",
    "model = AutoModelForSequenceClassification.from_pretrained(MODEL)"
   ]
  },
  {
   "cell_type": "code",
   "execution_count": null,
   "metadata": {},
   "outputs": [
    {
     "name": "stdout",
     "output_type": "stream",
     "text": [
      "{'roberta_neg': 0.32794285, 'roberta_neu': 0.48213172, 'roberta_pos': 0.18992545}\n"
     ]
    }
   ],
   "source": [
    "# Run for RoBERTa Model\n",
    "encoded_text = tokenizer(example, return_tensors='pt')\n",
    "output = model(**encoded_text)\n",
    "scores = output[0][0].detach().numpy()\n",
    "scores = softmax(scores)\n",
    "scores_dict = {\n",
    "    'roberta_neg' : scores[0],\n",
    "    'roberta_neu' : scores[1],\n",
    "    'roberta_pos' : scores[2]\n",
    "}\n",
    "print(scores_dict)"
   ]
  },
  {
   "cell_type": "code",
   "execution_count": 62,
   "metadata": {},
   "outputs": [],
   "source": [
    "def polarity_scores_roberta(example):\n",
    "    encoded_text = tokenizer(example, return_tensors='pt')\n",
    "    output = model(**encoded_text)\n",
    "    scores = output[0][0].detach().numpy()\n",
    "    scores = softmax(scores)\n",
    "    scores_dict = {\n",
    "        'roberta_neg' : scores[0],\n",
    "        'roberta_neu' : scores[1],\n",
    "        'roberta_pos' : scores[2]\n",
    "    }\n",
    "    return scores_dict"
   ]
  },
  {
   "cell_type": "code",
   "execution_count": 77,
   "metadata": {},
   "outputs": [
    {
     "data": {
      "text/plain": [
       "{'roberta_neg': 0.028220292,\n",
       " 'roberta_neu': 0.2745981,\n",
       " 'roberta_pos': 0.69718164}"
      ]
     },
     "execution_count": 77,
     "metadata": {},
     "output_type": "execute_result"
    }
   ],
   "source": [
    "text = \"The classes are good but needs improvement\"\n",
    "polarity_scores_roberta(text)"
   ]
  },
  {
   "cell_type": "code",
   "execution_count": 78,
   "metadata": {},
   "outputs": [
    {
     "name": "stdout",
     "output_type": "stream",
     "text": [
      "{'roberta_neg': 0.32794285, 'roberta_neu': 0.48213172, 'roberta_pos': 0.18992545}\n"
     ]
    }
   ],
   "source": [
    "# Run for Roberta Model\n",
    "encoded_text = tokenizer(example, return_tensors='pt')\n",
    "output = model(**encoded_text)\n",
    "scores = output[0][0].detach().numpy()\n",
    "scores = softmax(scores)\n",
    "scores_dict = {\n",
    "    'roberta_neg' : scores[0],\n",
    "    'roberta_neu' : scores[1],\n",
    "    'roberta_pos' : scores[2]\n",
    "}\n",
    "print(scores_dict)"
   ]
  },
  {
   "cell_type": "code",
   "execution_count": 79,
   "metadata": {},
   "outputs": [],
   "source": [
    "def polarity_scores_roberta(example):\n",
    "    encoded_text = tokenizer(example, return_tensors='pt')\n",
    "    output = model(**encoded_text)\n",
    "    scores = output[0][0].detach().numpy()\n",
    "    scores = softmax(scores)\n",
    "    scores_dict = {\n",
    "        'roberta_neg' : scores[0],\n",
    "        'roberta_neu' : scores[1],\n",
    "        'roberta_pos' : scores[2]\n",
    "    }\n",
    "    return scores_dict"
   ]
  },
  {
   "cell_type": "code",
   "execution_count": 80,
   "metadata": {},
   "outputs": [
    {
     "name": "stdout",
     "output_type": "stream",
     "text": [
      "The session was too long and felt overwhelming. Breaking it into smaller, more digestible modules would help maintain focus. By the end, attention levels dropped. More concise sessions with short breaks would be beneficial.\n"
     ]
    },
    {
     "data": {
      "text/plain": [
       "{'neg': 0.0, 'neu': 0.851, 'pos': 0.149, 'compound': 0.6808}"
      ]
     },
     "execution_count": 80,
     "metadata": {},
     "output_type": "execute_result"
    }
   ],
   "source": [
    "# VADER results on example\n",
    "print(example)\n",
    "sia.polarity_scores(example)"
   ]
  },
  {
   "cell_type": "code",
   "execution_count": 94,
   "metadata": {},
   "outputs": [
    {
     "data": {
      "text/plain": [
       "{'roberta_neg': 0.97211885,\n",
       " 'roberta_neu': 0.024900585,\n",
       " 'roberta_pos': 0.0029805203}"
      ]
     },
     "execution_count": 94,
     "metadata": {},
     "output_type": "execute_result"
    }
   ],
   "source": [
    "polarity_scores_roberta(\"MVIT is a complete disappointment with poor management and outdated teaching methods. The faculty lacks proper knowledge and fails to guide students effectively. Infrastructure is subpar, and facilities are barely maintained. Overall, it's a waste of time and money—avoid at all costs.\")"
   ]
  },
  {
   "cell_type": "code",
   "execution_count": 96,
   "metadata": {},
   "outputs": [
    {
     "data": {
      "text/plain": [
       "{'neg': 0.0, 'neu': 0.864, 'pos': 0.136, 'compound': 0.6124}"
      ]
     },
     "execution_count": 96,
     "metadata": {},
     "output_type": "execute_result"
    }
   ],
   "source": [
    "sia.polarity_scores(\"has a mix of positives and negatives. While the faculty and courses provide decent learning opportunities, there is room for improvement in management and infrastructure. Some facilities are well-maintained, but others need upgrades. Overall, it offers a moderate experience depending on individual expectations.\")"
   ]
  },
  {
   "cell_type": "code",
   "execution_count": 95,
   "metadata": {},
   "outputs": [
    {
     "data": {
      "text/plain": [
       "{'roberta_neg': 0.058888912,\n",
       " 'roberta_neu': 0.36644447,\n",
       " 'roberta_pos': 0.5746666}"
      ]
     },
     "execution_count": 95,
     "metadata": {},
     "output_type": "execute_result"
    }
   ],
   "source": [
    "polarity_scores_roberta(\"has a mix of positives and negatives. While the faculty and courses provide decent learning opportunities, there is room for improvement in management and infrastructure. Some facilities are well-maintained, but others need upgrades. Overall, it offers a moderate experience depending on individual expectations.\")"
   ]
  },
  {
   "cell_type": "code",
   "execution_count": 83,
   "metadata": {},
   "outputs": [
    {
     "data": {
      "application/vnd.jupyter.widget-view+json": {
       "model_id": "5aea9689a4124f0f88b57fc257a6fd09",
       "version_major": 2,
       "version_minor": 0
      },
      "text/plain": [
       "  0%|          | 0/361 [00:00<?, ?it/s]"
      ]
     },
     "metadata": {},
     "output_type": "display_data"
    }
   ],
   "source": [
    "res = {}\n",
    "for i, row in tqdm(df.iterrows(), total=len(df)):\n",
    "    try:\n",
    "        text = row['NAME']\n",
    "        myid = row['FEEDBACK']\n",
    "        vader_result = sia.polarity_scores(text)\n",
    "        vader_result_rename = {}\n",
    "        for key, value in vader_result.items():\n",
    "            vader_result_rename[f\"vader_{key}\"] = value\n",
    "        roberta_result = polarity_scores_roberta(text)\n",
    "        both = {**vader_result_rename, **roberta_result}\n",
    "        res[myid] = both\n",
    "    except RuntimeError:\n",
    "        print(f'Broke for id {myid}')"
   ]
  },
  {
   "cell_type": "code",
   "execution_count": 85,
   "metadata": {},
   "outputs": [],
   "source": [
    "results_df = pd.DataFrame(res).T\n",
    "results_df = results_df.reset_index().rename(columns={'index': 'NAME'})\n",
    "results_df = results_df.merge(df, how='left')"
   ]
  },
  {
   "cell_type": "code",
   "execution_count": 87,
   "metadata": {},
   "outputs": [
    {
     "data": {
      "text/html": [
       "<div>\n",
       "<style scoped>\n",
       "    .dataframe tbody tr th:only-of-type {\n",
       "        vertical-align: middle;\n",
       "    }\n",
       "\n",
       "    .dataframe tbody tr th {\n",
       "        vertical-align: top;\n",
       "    }\n",
       "\n",
       "    .dataframe thead th {\n",
       "        text-align: right;\n",
       "    }\n",
       "</style>\n",
       "<table border=\"1\" class=\"dataframe\">\n",
       "  <thead>\n",
       "    <tr style=\"text-align: right;\">\n",
       "      <th></th>\n",
       "      <th>Timestamp</th>\n",
       "      <th>NAME</th>\n",
       "      <th>DEPARTMENT</th>\n",
       "      <th>FEEDBACK</th>\n",
       "      <th>SUMMARY</th>\n",
       "      <th>REVIEW</th>\n",
       "    </tr>\n",
       "  </thead>\n",
       "  <tbody>\n",
       "    <tr>\n",
       "      <th>0</th>\n",
       "      <td>19/02/2025 21:02:18</td>\n",
       "      <td>Swati Sharma</td>\n",
       "      <td>IT</td>\n",
       "      <td>The examples provided were helpful but too few...</td>\n",
       "      <td>Useful examples, but needs more</td>\n",
       "      <td>1</td>\n",
       "    </tr>\n",
       "    <tr>\n",
       "      <th>1</th>\n",
       "      <td>19/02/2025 21:02:47</td>\n",
       "      <td>\\tManish Reddy</td>\n",
       "      <td>CSE</td>\n",
       "      <td>The session was too long, making it difficult ...</td>\n",
       "      <td>Session too long, needs better pacing.</td>\n",
       "      <td>1</td>\n",
       "    </tr>\n",
       "    <tr>\n",
       "      <th>2</th>\n",
       "      <td>19/02/2025 21:06:38</td>\n",
       "      <td>Harish Kumar</td>\n",
       "      <td>CSE</td>\n",
       "      <td>The Q&amp;A session was too short, leaving many do...</td>\n",
       "      <td>Q&amp;A too short, needs more time.</td>\n",
       "      <td>1</td>\n",
       "    </tr>\n",
       "    <tr>\n",
       "      <th>3</th>\n",
       "      <td>19/02/2025 21:07:23</td>\n",
       "      <td>Meenal Saxena</td>\n",
       "      <td>AIML</td>\n",
       "      <td>The practical examples were too simple and did...</td>\n",
       "      <td>Simple examples, needs complexity.</td>\n",
       "      <td>1</td>\n",
       "    </tr>\n",
       "    <tr>\n",
       "      <th>4</th>\n",
       "      <td>19/02/2025 21:07:47</td>\n",
       "      <td>Vikas Malhotra</td>\n",
       "      <td>IOT</td>\n",
       "      <td>The session was informative but felt repetitiv...</td>\n",
       "      <td>Repetitive, needs conciseness.</td>\n",
       "      <td>1</td>\n",
       "    </tr>\n",
       "  </tbody>\n",
       "</table>\n",
       "</div>"
      ],
      "text/plain": [
       "             Timestamp            NAME DEPARTMENT  \\\n",
       "0  19/02/2025 21:02:18    Swati Sharma         IT   \n",
       "1  19/02/2025 21:02:47  \\tManish Reddy        CSE   \n",
       "2  19/02/2025 21:06:38    Harish Kumar        CSE   \n",
       "3  19/02/2025 21:07:23   Meenal Saxena       AIML   \n",
       "4  19/02/2025 21:07:47  Vikas Malhotra        IOT   \n",
       "\n",
       "                                            FEEDBACK  \\\n",
       "0  The examples provided were helpful but too few...   \n",
       "1  The session was too long, making it difficult ...   \n",
       "2  The Q&A session was too short, leaving many do...   \n",
       "3  The practical examples were too simple and did...   \n",
       "4  The session was informative but felt repetitiv...   \n",
       "\n",
       "                                  SUMMARY  REVIEW  \n",
       "0         Useful examples, but needs more       1  \n",
       "1  Session too long, needs better pacing.       1  \n",
       "2         Q&A too short, needs more time.       1  \n",
       "3      Simple examples, needs complexity.       1  \n",
       "4          Repetitive, needs conciseness.       1  "
      ]
     },
     "execution_count": 87,
     "metadata": {},
     "output_type": "execute_result"
    }
   ],
   "source": [
    "df.head()"
   ]
  },
  {
   "cell_type": "code",
   "execution_count": 88,
   "metadata": {},
   "outputs": [
    {
     "data": {
      "text/plain": [
       "Index(['NAME', 'vader_neg', 'vader_neu', 'vader_pos', 'vader_compound',\n",
       "       'roberta_neg', 'roberta_neu', 'roberta_pos', 'Timestamp', 'DEPARTMENT',\n",
       "       'FEEDBACK', 'SUMMARY', 'REVIEW'],\n",
       "      dtype='object')"
      ]
     },
     "execution_count": 88,
     "metadata": {},
     "output_type": "execute_result"
    }
   ],
   "source": [
    "results_df.columns"
   ]
  },
  {
   "cell_type": "code",
   "execution_count": 89,
   "metadata": {},
   "outputs": [
    {
     "data": {
      "text/html": [
       "<div>\n",
       "<style scoped>\n",
       "    .dataframe tbody tr th:only-of-type {\n",
       "        vertical-align: middle;\n",
       "    }\n",
       "\n",
       "    .dataframe tbody tr th {\n",
       "        vertical-align: top;\n",
       "    }\n",
       "\n",
       "    .dataframe thead th {\n",
       "        text-align: right;\n",
       "    }\n",
       "</style>\n",
       "<table border=\"1\" class=\"dataframe\">\n",
       "  <thead>\n",
       "    <tr style=\"text-align: right;\">\n",
       "      <th></th>\n",
       "      <th>NAME</th>\n",
       "      <th>vader_neg</th>\n",
       "      <th>vader_neu</th>\n",
       "      <th>vader_pos</th>\n",
       "      <th>vader_compound</th>\n",
       "      <th>roberta_neg</th>\n",
       "      <th>roberta_neu</th>\n",
       "      <th>roberta_pos</th>\n",
       "      <th>Timestamp</th>\n",
       "      <th>DEPARTMENT</th>\n",
       "      <th>FEEDBACK</th>\n",
       "      <th>SUMMARY</th>\n",
       "      <th>REVIEW</th>\n",
       "    </tr>\n",
       "  </thead>\n",
       "  <tbody>\n",
       "    <tr>\n",
       "      <th>0</th>\n",
       "      <td>The examples provided were helpful but too few...</td>\n",
       "      <td>0.0</td>\n",
       "      <td>1.0</td>\n",
       "      <td>0.0</td>\n",
       "      <td>0.0</td>\n",
       "      <td>0.144329</td>\n",
       "      <td>0.736683</td>\n",
       "      <td>0.118988</td>\n",
       "      <td>NaN</td>\n",
       "      <td>NaN</td>\n",
       "      <td>NaN</td>\n",
       "      <td>NaN</td>\n",
       "      <td>NaN</td>\n",
       "    </tr>\n",
       "    <tr>\n",
       "      <th>1</th>\n",
       "      <td>The session was too long, making it difficult ...</td>\n",
       "      <td>0.0</td>\n",
       "      <td>1.0</td>\n",
       "      <td>0.0</td>\n",
       "      <td>0.0</td>\n",
       "      <td>0.101054</td>\n",
       "      <td>0.802925</td>\n",
       "      <td>0.096022</td>\n",
       "      <td>NaN</td>\n",
       "      <td>NaN</td>\n",
       "      <td>NaN</td>\n",
       "      <td>NaN</td>\n",
       "      <td>NaN</td>\n",
       "    </tr>\n",
       "    <tr>\n",
       "      <th>2</th>\n",
       "      <td>The Q&amp;A session was too short, leaving many do...</td>\n",
       "      <td>0.0</td>\n",
       "      <td>1.0</td>\n",
       "      <td>0.0</td>\n",
       "      <td>0.0</td>\n",
       "      <td>0.173294</td>\n",
       "      <td>0.705601</td>\n",
       "      <td>0.121105</td>\n",
       "      <td>NaN</td>\n",
       "      <td>NaN</td>\n",
       "      <td>NaN</td>\n",
       "      <td>NaN</td>\n",
       "      <td>NaN</td>\n",
       "    </tr>\n",
       "    <tr>\n",
       "      <th>3</th>\n",
       "      <td>The practical examples were too simple and did...</td>\n",
       "      <td>0.0</td>\n",
       "      <td>1.0</td>\n",
       "      <td>0.0</td>\n",
       "      <td>0.0</td>\n",
       "      <td>0.165519</td>\n",
       "      <td>0.721147</td>\n",
       "      <td>0.113335</td>\n",
       "      <td>NaN</td>\n",
       "      <td>NaN</td>\n",
       "      <td>NaN</td>\n",
       "      <td>NaN</td>\n",
       "      <td>NaN</td>\n",
       "    </tr>\n",
       "    <tr>\n",
       "      <th>4</th>\n",
       "      <td>The session was informative but felt repetitiv...</td>\n",
       "      <td>0.0</td>\n",
       "      <td>1.0</td>\n",
       "      <td>0.0</td>\n",
       "      <td>0.0</td>\n",
       "      <td>0.135732</td>\n",
       "      <td>0.739766</td>\n",
       "      <td>0.124502</td>\n",
       "      <td>NaN</td>\n",
       "      <td>NaN</td>\n",
       "      <td>NaN</td>\n",
       "      <td>NaN</td>\n",
       "      <td>NaN</td>\n",
       "    </tr>\n",
       "  </tbody>\n",
       "</table>\n",
       "</div>"
      ],
      "text/plain": [
       "                                                NAME  vader_neg  vader_neu  \\\n",
       "0  The examples provided were helpful but too few...        0.0        1.0   \n",
       "1  The session was too long, making it difficult ...        0.0        1.0   \n",
       "2  The Q&A session was too short, leaving many do...        0.0        1.0   \n",
       "3  The practical examples were too simple and did...        0.0        1.0   \n",
       "4  The session was informative but felt repetitiv...        0.0        1.0   \n",
       "\n",
       "   vader_pos  vader_compound  roberta_neg  roberta_neu  roberta_pos Timestamp  \\\n",
       "0        0.0             0.0     0.144329     0.736683     0.118988       NaN   \n",
       "1        0.0             0.0     0.101054     0.802925     0.096022       NaN   \n",
       "2        0.0             0.0     0.173294     0.705601     0.121105       NaN   \n",
       "3        0.0             0.0     0.165519     0.721147     0.113335       NaN   \n",
       "4        0.0             0.0     0.135732     0.739766     0.124502       NaN   \n",
       "\n",
       "  DEPARTMENT FEEDBACK SUMMARY  REVIEW  \n",
       "0        NaN      NaN     NaN     NaN  \n",
       "1        NaN      NaN     NaN     NaN  \n",
       "2        NaN      NaN     NaN     NaN  \n",
       "3        NaN      NaN     NaN     NaN  \n",
       "4        NaN      NaN     NaN     NaN  "
      ]
     },
     "execution_count": 89,
     "metadata": {},
     "output_type": "execute_result"
    }
   ],
   "source": [
    "results_df.head()"
   ]
  },
  {
   "cell_type": "code",
   "execution_count": 92,
   "metadata": {},
   "outputs": [],
   "source": [
    "pd.DataFrame(results_df).to_csv(\"column_names.csv\", index=False, header=False)"
   ]
  }
 ],
 "metadata": {
  "kernelspec": {
   "display_name": "Python 3",
   "language": "python",
   "name": "python3"
  },
  "language_info": {
   "codemirror_mode": {
    "name": "ipython",
    "version": 3
   },
   "file_extension": ".py",
   "mimetype": "text/x-python",
   "name": "python",
   "nbconvert_exporter": "python",
   "pygments_lexer": "ipython3",
   "version": "3.12.8"
  }
 },
 "nbformat": 4,
 "nbformat_minor": 2
}
