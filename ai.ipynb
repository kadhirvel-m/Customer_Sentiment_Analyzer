{
 "cells": [
  {
   "cell_type": "code",
   "execution_count": 1,
   "metadata": {},
   "outputs": [],
   "source": [
    "import ollama"
   ]
  },
  {
   "cell_type": "code",
   "execution_count": 2,
   "metadata": {},
   "outputs": [],
   "source": [
    "\n",
    "def analyze_feedback(text):\n",
    "    prompt = f\"\"\"Analyze the following feedback:\n",
    "    \n",
    "    \"{text}\"\n",
    "    \n",
    "    Return output in the following structured format:\n",
    "\n",
    "    Sentiment: (pos/neu/neg)\n",
    "    Insight: (A short insight summarizing the feedback)\n",
    "    Key Factors:\n",
    "    Neg:\n",
    "    - (Short negative points)\n",
    "    Pos:\n",
    "    - (Short positive points)\n",
    "    Neu:\n",
    "    - (Short neutral points or 'N/A' if none)\n",
    "    \"\"\"\n",
    "\n",
    "    response = ollama.chat(model=\"mistral\", messages=[{\"role\": \"user\", \"content\": prompt}])\n",
    "    return response['message']['content']"
   ]
  },
  {
   "cell_type": "code",
   "execution_count": 3,
   "metadata": {},
   "outputs": [
    {
     "name": "stdout",
     "output_type": "stream",
     "text": [
      " Sentiment: neu\n",
      "   Insight: The feedback suggests that while the college has many positive aspects, there are areas that require improvement to enhance the overall academic experience.\n",
      "   Key Factors:\n",
      "   Neg:\n",
      "   - Inadequate lighting in classrooms affecting visibility and focus\n",
      "   - Lack of proper notes and study materials\n",
      "   Pos:\n",
      "   - Excellent teachers who explain concepts clearly and are supportive\n",
      "   - Well-maintained infrastructure providing a good learning environment\n",
      "   Neu:\n",
      "   - N/A\n"
     ]
    }
   ],
   "source": [
    "\n",
    "# Example input\n",
    "feedback = \"\"\"The college has some excellent teachers who explain concepts clearly and are always supportive. The infrastructure is well-maintained, providing a good learning environment. However, there are issues that need attention, such as inadequate lighting in classrooms, which affects visibility and focus. Additionally, the availability of proper notes and study materials is lacking, making it difficult for students to prepare effectively. Improving these aspects would enhance the overall academic experience.\"\"\"\n",
    "\n",
    "# Analyze feedback\n",
    "result = analyze_feedback(feedback)\n",
    "print(result)"
   ]
  }
 ],
 "metadata": {
  "kernelspec": {
   "display_name": "Python 3",
   "language": "python",
   "name": "python3"
  },
  "language_info": {
   "codemirror_mode": {
    "name": "ipython",
    "version": 3
   },
   "file_extension": ".py",
   "mimetype": "text/x-python",
   "name": "python",
   "nbconvert_exporter": "python",
   "pygments_lexer": "ipython3",
   "version": "3.11.9"
  }
 },
 "nbformat": 4,
 "nbformat_minor": 2
}
